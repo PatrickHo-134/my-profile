{
 "cells": [
  {
   "cell_type": "markdown",
   "metadata": {},
   "source": [
    "# Content\n",
    "1. What is correlation test?\n",
    "2. Install and load required R packages\n",
    "3. Methods for correlation analyses\n",
    "4. Correlation formula\n",
    "    * Pearson correlation formula\n",
    "    * Spearman correlation formula\n",
    "    * Kendall correlation formula\n",
    "5. Compute correlation in R\n",
    "    * R functions\n",
    "    * Import your data into R\n",
    "    * Visualize your data using scatter plots\n",
    "    * Preleminary test to check the test assumptions\n",
    "    * Pearson correlation test\n",
    "        * Interpretation of the result\n",
    "        * Access to the values returned by cor.test() function\n",
    "    * Kendall rank correlation test\n",
    "    * Spearman rank correlation coefficient\n",
    "6. Interpret correlation coefficient"
   ]
  },
  {
   "cell_type": "markdown",
   "metadata": {},
   "source": [
    "## 1. What is correlation test?\n",
    "\n",
    "**Correlation test** is used to evaluate the association between two or more variables. For instance, if we are interested to know whether there is a relationship between the heights of fathers and sons, a **correlation coefficient** can be calculated to answer this question.\n",
    "\n",
    "If there is no relationship between the two variables (father and son heights), the average height of son should be the same regardless of the height of the fathers and vice versa.\n",
    "\n",
    "Here, we’ll describe the different correlation methods and we’ll provide pratical examples using R software."
   ]
  },
  {
   "cell_type": "markdown",
   "metadata": {},
   "source": [
    "## 2. Install and load required R packages\n",
    "We’ll use the ggpubr R package for an easy ggplot2-based data visualization\n",
    "\n",
    "Install the latest version from GitHub as follow (recommended):"
   ]
  },
  {
   "cell_type": "code",
   "execution_count": 2,
   "metadata": {},
   "outputs": [],
   "source": [
    "# if(!require(devtools)) install.packages(\"devtools\")\n",
    "# devtools::install_github(\"kassambara/ggpubr\")"
   ]
  },
  {
   "cell_type": "markdown",
   "metadata": {},
   "source": [
    "Or, install from CRAN as follow:"
   ]
  },
  {
   "cell_type": "code",
   "execution_count": 3,
   "metadata": {},
   "outputs": [],
   "source": [
    "# install.packages(\"ggpubr\")\n",
    "library(\"ggpubr\")"
   ]
  },
  {
   "cell_type": "markdown",
   "metadata": {},
   "source": [
    "## 3. Methods for corelation analysis\n",
    "There are different methods to perform correlation analysis:\n",
    "- **Pearson correlation (r)**, which measures a linear dependence between two variables (x and y). It’s also known as a parametric correlation test because it depends to the distribution of the data. It can be used only when x and y are from normal distribution. The plot of y = f(x) is named the linear regression curve.\n",
    "- **Kendall tau** and **Spearman rho**, which are rank-based correlation coefficients (non-parametric)\n",
    "\n",
    "-> **The most commonly used method is the Pearson correlation method.**"
   ]
  },
  {
   "cell_type": "markdown",
   "metadata": {},
   "source": [
    "## 4. Correlation formula\n",
    "In the formula below,\n",
    "\n",
    "- x and y are two vectors of length n\n",
    "- $m_x$ and $m_y$ corresponds to the means of x and y, respectively.\n",
    "\n",
    "### a. Pearson correlation formula\n",
    "$$r = \\frac{\\sum{(x-m_x)(y-m_y)}}{\\sqrt{\\sum{(x-m_x)^2}\\sum{(y-m_y)^2}}}$$\n",
    "\n",
    "$m_x$ and $m_y$ are the means of x and y variables.\n",
    "\n",
    "The p-value (significance level) of the correlation can be determined :\n",
    "\n",
    "1. by using the correlation coefficient table for the degrees of freedom : df=n−2, where n is the number of observation in x and y variables.\n",
    "\n",
    "2. or by calculating the t value as follow:\n",
    "$$t = \\frac{r}{\\sqrt{1-r^2}}\\sqrt{n-2}$$\n",
    "\n",
    "In the case 2) the corresponding p-value is determined using [t distribution table](http://www.sthda.com/english/wiki/t-distribution-table) for $df = n-2$\n",
    "\n",
    "-> **If the p-value is < 5%, then the correlation between x and y is significant.**\n",
    "\n",
    "\n",
    "### b. Spearman correlation formula\n",
    "The **Spearman correlation** method computes the correlation between the rank of x and the rank of y variables.\n",
    "$$rho = \\frac{\\sum(x' - m_{x'})(y'_i - m_{y'})}{\\sqrt{\\sum(x' - m_{x'})^2 \\sum(y' - m_{y'})^2}}$$\n",
    "Where $x′=rank(x)$ and $y′=rank(y)$\n",
    "\n",
    "### c. Kendall correlation formula\n",
    "The **Kendall correlation** method measures the correspondence between the ranking of x and y variables. The total number of possible pairings of x with y observations is $n(n−1)/2$, where n is the size of x and y.\n",
    "\n",
    "The procedure is as follow:\n",
    "\n",
    "- Begin by ordering the pairs by the x values. If x and y are correlated, then they would have the same relative rank orders.\n",
    "\n",
    "- Now, for each $y_i$, count the number of **$y_j>y_i$ (concordant pairs (c))** and the number of **$y_j<y_i$ (discordant pairs (d)).**\n",
    "\n",
    "Kendall correlation distance is defined as follow:\n",
    "$$tau = \\frac{n_c - n_d}{\\frac{1}{2}n(n-1)}$$\n",
    "Where,\n",
    "* $n_c$: total number of concordant pairs\n",
    "* $n_d$: total number of discordant pairs\n",
    "* $n$: size of x and y\n"
   ]
  },
  {
   "cell_type": "markdown",
   "metadata": {},
   "source": [
    "## 5. Compute correlation in R\n",
    "### a. R functions\n",
    "Correlation coefficient can be computed using the functions **cor()** or **cor.test()**:\n",
    "\n",
    "* **cor()** computes the **correlation coefficient**\n",
    "\n",
    "* **cor.test()** test for association/correlation between paired samples. It returns both the **correlation coefficient** and the **significance level** (or p-value) of the correlation .\n",
    "\n",
    "The simplified formats are:\n",
    "- cor(x, y, method = c(\"pearson\", \"kendall\", \"spearman\"))\n",
    "- cor.test(x, y, method=c(\"pearson\", \"kendall\", \"spearman\"))\n",
    "\n",
    "* x, y: numeric vectors with the same length\n",
    "* method: correlation method\n",
    "\n",
    "**Note:** If your data contain missing values, use the following R code to handle missing values by case-wise deletion.\n",
    "- cor(x, y,  method = \"pearson\", use = \"complete.obs\")"
   ]
  },
  {
   "cell_type": "markdown",
   "metadata": {},
   "source": [
    "### b. Import data into R\n",
    "1. Prepare your data as specified here: Best practices for preparing your data set for R\n",
    "2. Save your data in an external .txt tab or .csv files\n",
    "3. Import your data into R as follow:\n",
    "    * my_data <- read.delim(file.choose()) # If .txt tab file, use this\n",
    "    * my_data <- read.csv(file.choose()) # Or, if .csv file, use this\n",
    "\n",
    "Here, we’ll use the built-in R data set mtcars as an example. The R code below computes the correlation between mpg and wt variables in mtcars data set:"
   ]
  },
  {
   "cell_type": "code",
   "execution_count": 4,
   "metadata": {},
   "outputs": [
    {
     "data": {
      "text/html": [
       "<table>\n",
       "<caption>A data.frame: 6 × 11</caption>\n",
       "<thead>\n",
       "\t<tr><th></th><th scope=col>mpg</th><th scope=col>cyl</th><th scope=col>disp</th><th scope=col>hp</th><th scope=col>drat</th><th scope=col>wt</th><th scope=col>qsec</th><th scope=col>vs</th><th scope=col>am</th><th scope=col>gear</th><th scope=col>carb</th></tr>\n",
       "\t<tr><th></th><th scope=col>&lt;dbl&gt;</th><th scope=col>&lt;dbl&gt;</th><th scope=col>&lt;dbl&gt;</th><th scope=col>&lt;dbl&gt;</th><th scope=col>&lt;dbl&gt;</th><th scope=col>&lt;dbl&gt;</th><th scope=col>&lt;dbl&gt;</th><th scope=col>&lt;dbl&gt;</th><th scope=col>&lt;dbl&gt;</th><th scope=col>&lt;dbl&gt;</th><th scope=col>&lt;dbl&gt;</th></tr>\n",
       "</thead>\n",
       "<tbody>\n",
       "\t<tr><th scope=row>Mazda RX4</th><td>21.0</td><td>6</td><td>160</td><td>110</td><td>3.90</td><td>2.620</td><td>16.46</td><td>0</td><td>1</td><td>4</td><td>4</td></tr>\n",
       "\t<tr><th scope=row>Mazda RX4 Wag</th><td>21.0</td><td>6</td><td>160</td><td>110</td><td>3.90</td><td>2.875</td><td>17.02</td><td>0</td><td>1</td><td>4</td><td>4</td></tr>\n",
       "\t<tr><th scope=row>Datsun 710</th><td>22.8</td><td>4</td><td>108</td><td> 93</td><td>3.85</td><td>2.320</td><td>18.61</td><td>1</td><td>1</td><td>4</td><td>1</td></tr>\n",
       "\t<tr><th scope=row>Hornet 4 Drive</th><td>21.4</td><td>6</td><td>258</td><td>110</td><td>3.08</td><td>3.215</td><td>19.44</td><td>1</td><td>0</td><td>3</td><td>1</td></tr>\n",
       "\t<tr><th scope=row>Hornet Sportabout</th><td>18.7</td><td>8</td><td>360</td><td>175</td><td>3.15</td><td>3.440</td><td>17.02</td><td>0</td><td>0</td><td>3</td><td>2</td></tr>\n",
       "\t<tr><th scope=row>Valiant</th><td>18.1</td><td>6</td><td>225</td><td>105</td><td>2.76</td><td>3.460</td><td>20.22</td><td>1</td><td>0</td><td>3</td><td>1</td></tr>\n",
       "</tbody>\n",
       "</table>\n"
      ],
      "text/latex": [
       "A data.frame: 6 × 11\n",
       "\\begin{tabular}{r|lllllllllll}\n",
       "  & mpg & cyl & disp & hp & drat & wt & qsec & vs & am & gear & carb\\\\\n",
       "  & <dbl> & <dbl> & <dbl> & <dbl> & <dbl> & <dbl> & <dbl> & <dbl> & <dbl> & <dbl> & <dbl>\\\\\n",
       "\\hline\n",
       "\tMazda RX4 & 21.0 & 6 & 160 & 110 & 3.90 & 2.620 & 16.46 & 0 & 1 & 4 & 4\\\\\n",
       "\tMazda RX4 Wag & 21.0 & 6 & 160 & 110 & 3.90 & 2.875 & 17.02 & 0 & 1 & 4 & 4\\\\\n",
       "\tDatsun 710 & 22.8 & 4 & 108 &  93 & 3.85 & 2.320 & 18.61 & 1 & 1 & 4 & 1\\\\\n",
       "\tHornet 4 Drive & 21.4 & 6 & 258 & 110 & 3.08 & 3.215 & 19.44 & 1 & 0 & 3 & 1\\\\\n",
       "\tHornet Sportabout & 18.7 & 8 & 360 & 175 & 3.15 & 3.440 & 17.02 & 0 & 0 & 3 & 2\\\\\n",
       "\tValiant & 18.1 & 6 & 225 & 105 & 2.76 & 3.460 & 20.22 & 1 & 0 & 3 & 1\\\\\n",
       "\\end{tabular}\n"
      ],
      "text/markdown": [
       "\n",
       "A data.frame: 6 × 11\n",
       "\n",
       "| <!--/--> | mpg &lt;dbl&gt; | cyl &lt;dbl&gt; | disp &lt;dbl&gt; | hp &lt;dbl&gt; | drat &lt;dbl&gt; | wt &lt;dbl&gt; | qsec &lt;dbl&gt; | vs &lt;dbl&gt; | am &lt;dbl&gt; | gear &lt;dbl&gt; | carb &lt;dbl&gt; |\n",
       "|---|---|---|---|---|---|---|---|---|---|---|---|\n",
       "| Mazda RX4 | 21.0 | 6 | 160 | 110 | 3.90 | 2.620 | 16.46 | 0 | 1 | 4 | 4 |\n",
       "| Mazda RX4 Wag | 21.0 | 6 | 160 | 110 | 3.90 | 2.875 | 17.02 | 0 | 1 | 4 | 4 |\n",
       "| Datsun 710 | 22.8 | 4 | 108 |  93 | 3.85 | 2.320 | 18.61 | 1 | 1 | 4 | 1 |\n",
       "| Hornet 4 Drive | 21.4 | 6 | 258 | 110 | 3.08 | 3.215 | 19.44 | 1 | 0 | 3 | 1 |\n",
       "| Hornet Sportabout | 18.7 | 8 | 360 | 175 | 3.15 | 3.440 | 17.02 | 0 | 0 | 3 | 2 |\n",
       "| Valiant | 18.1 | 6 | 225 | 105 | 2.76 | 3.460 | 20.22 | 1 | 0 | 3 | 1 |\n",
       "\n"
      ],
      "text/plain": [
       "                  mpg  cyl disp hp  drat wt    qsec  vs am gear carb\n",
       "Mazda RX4         21.0 6   160  110 3.90 2.620 16.46 0  1  4    4   \n",
       "Mazda RX4 Wag     21.0 6   160  110 3.90 2.875 17.02 0  1  4    4   \n",
       "Datsun 710        22.8 4   108   93 3.85 2.320 18.61 1  1  4    1   \n",
       "Hornet 4 Drive    21.4 6   258  110 3.08 3.215 19.44 1  0  3    1   \n",
       "Hornet Sportabout 18.7 8   360  175 3.15 3.440 17.02 0  0  3    2   \n",
       "Valiant           18.1 6   225  105 2.76 3.460 20.22 1  0  3    1   "
      ]
     },
     "metadata": {},
     "output_type": "display_data"
    }
   ],
   "source": [
    "my_data <- mtcars\n",
    "head(my_data, 6)"
   ]
  },
  {
   "cell_type": "markdown",
   "metadata": {},
   "source": [
    "**We want to compute the correlation between mpg and wt variables.**"
   ]
  },
  {
   "cell_type": "markdown",
   "metadata": {},
   "source": [
    "### c. Visualize data using scatter plots\n",
    "To use R base graphs, click this link: [scatter plot - R base graphs](http://www.sthda.com/english/wiki/scatter-plots-r-base-graphs). Here, we’ll use the [ggpubr R package](http://www.sthda.com/english/articles/24-ggpubr-publication-ready-plots/)."
   ]
  },
  {
   "cell_type": "code",
   "execution_count": 5,
   "metadata": {},
   "outputs": [
    {
     "data": {
      "image/png": "[encoded data removed]",
      "text/plain": [
       "plot without title"
      ]
     },
     "metadata": {
      "image/png": {
       "height": 420,
       "width": 420
      },
      "text/plain": {
       "height": 420,
       "width": 420
      }
     },
     "output_type": "display_data"
    }
   ],
   "source": [
    "library(\"ggpubr\")\n",
    "ggscatter(my_data, x = \"mpg\", y = \"wt\", \n",
    "          add = \"reg.line\", conf.int = TRUE, \n",
    "          cor.coef = TRUE, cor.method = \"pearson\",\n",
    "          xlab = \"Miles/(US) gallon\", ylab = \"Weight (1000 lbs)\") "
   ]
  },
  {
   "cell_type": "markdown",
   "metadata": {
    "_cell_guid": "b1076dfc-b9ad-4769-8c92-a6c4dae69d19",
    "_uuid": "8f2839f25d086af736a60e9eeb907d3b93b6e0e5"
   },
   "source": [
    "### d. Preleminary test to check the test assumptions\n",
    "1. **Is the covariation linear?** \n",
    "Yes, form the plot above, the relationship is linear. In the situation where the scatter plots show curved patterns, we are dealing with nonlinear association between the two variables.\n",
    "\n",
    "2. **Are the data from each of the 2 variables (x, y) follow a normal distribution?**\n",
    "    * Use Shapiro-Wilk normality test –> R function: shapiro.test()\n",
    "    * and look at the normality plot —> R function: ggpubr::ggqqplot()\n",
    "\n",
    "3. **Shapiro-Wilk** test can be performed as follow:\n",
    "    * Null hypothesis: the data are normally distributed\n",
    "    * Alternative hypothesis: the data are not normally distributed"
   ]
  },
  {
   "cell_type": "code",
   "execution_count": 6,
   "metadata": {},
   "outputs": [
    {
     "data": {
      "text/plain": [
       "\n",
       "\tShapiro-Wilk normality test\n",
       "\n",
       "data:  my_data$mpg\n",
       "W = 0.94756, p-value = 0.1229\n"
      ]
     },
     "metadata": {},
     "output_type": "display_data"
    },
    {
     "data": {
      "text/plain": [
       "\n",
       "\tShapiro-Wilk normality test\n",
       "\n",
       "data:  my_data$wt\n",
       "W = 0.94326, p-value = 0.09265\n"
      ]
     },
     "metadata": {},
     "output_type": "display_data"
    }
   ],
   "source": [
    "# Shapiro-Wilk normality test for mpg\n",
    "shapiro.test(my_data$mpg) # => p = 0.1229\n",
    "# Shapiro-Wilk normality test for wt\n",
    "shapiro.test(my_data$wt) # => p = 0.09"
   ]
  },
  {
   "cell_type": "markdown",
   "metadata": {},
   "source": [
    "**From the output, the two p-values are greater than the significance level 0.05 implying that the distribution of the data are not significantly different from normal distribution. In other words, we can assume the normality.**"
   ]
  },
  {
   "cell_type": "markdown",
   "metadata": {},
   "source": [
    "4. **Visual inspection** of the data normality using **Q-Q plots** (quantile-quantile plots). Q-Q plot draws the correlation between a given sample and the normal distribution."
   ]
  },
  {
   "cell_type": "code",
   "execution_count": 7,
   "metadata": {},
   "outputs": [
    {
     "data": {
      "image/png": "[encoded data removed]",
      "text/plain": [
       "plot without title"
      ]
     },
     "metadata": {
      "image/png": {
       "height": 420,
       "width": 420
      },
      "text/plain": {
       "height": 420,
       "width": 420
      }
     },
     "output_type": "display_data"
    },
    {
     "data": {
      "image/png": "[encoded data removed]",
      "text/plain": [
       "plot without title"
      ]
     },
     "metadata": {
      "image/png": {
       "height": 420,
       "width": 420
      },
      "text/plain": {
       "height": 420,
       "width": 420
      }
     },
     "output_type": "display_data"
    }
   ],
   "source": [
    "library(\"ggpubr\")\n",
    "# mpg\n",
    "ggqqplot(my_data$mpg, ylab = \"MPG\")\n",
    "# wt\n",
    "ggqqplot(my_data$wt, ylab = \"WT\")"
   ]
  },
  {
   "cell_type": "markdown",
   "metadata": {},
   "source": [
    "**From the normality plots, we conclude that both populations may come from normal distributions.**\n",
    "\n",
    "**Note:** If the data are not normally distributed, it’s recommended to use the non-parametric correlation, including Spearman and Kendall rank-based correlation tests."
   ]
  },
  {
   "cell_type": "markdown",
   "metadata": {},
   "source": [
    "### e. Pearson correlation test\n",
    "Correlation test between mpg and wt variables:"
   ]
  },
  {
   "cell_type": "code",
   "execution_count": 8,
   "metadata": {},
   "outputs": [
    {
     "data": {
      "text/plain": [
       "\n",
       "\tPearson's product-moment correlation\n",
       "\n",
       "data:  my_data$wt and my_data$mpg\n",
       "t = -9.559, df = 30, p-value = 1.294e-10\n",
       "alternative hypothesis: true correlation is not equal to 0\n",
       "95 percent confidence interval:\n",
       " -0.9338264 -0.7440872\n",
       "sample estimates:\n",
       "       cor \n",
       "-0.8676594 \n"
      ]
     },
     "metadata": {},
     "output_type": "display_data"
    }
   ],
   "source": [
    "res <- cor.test(my_data$wt, my_data$mpg, method = \"pearson\")\n",
    "res"
   ]
  },
  {
   "cell_type": "markdown",
   "metadata": {},
   "source": [
    "In the result above :\n",
    "- **t** is the **t-test statistic value** (t = -9.559),\n",
    "- **df** is the degrees of freedom (df= 30),\n",
    "- **p-value** is the significance level of the **t-test** (p-value = 1.29410^{-10}).\n",
    "- **conf.int** is the **confidence interval** of the correlation coefficient at 95% (conf.int = [-0.9338, -0.7441]);\n",
    "- **sample estimates** is the correlation coefficient (Cor.coeff = -0.87).\n",
    "\n",
    "#### Interpretation of the result\n",
    "The **p-value** of the test is 1.29410^{-10}, which is less than the significance level alpha = 0.05. We can conclude that wt and mpg are significantly correlated with a correlation coefficient of -0.87 and p-value of $1.29410^{-10}$.\n",
    "\n",
    "#### Access to the values returned by cor.test() function\n",
    "The function cor.test() returns a list containing the following components:\n",
    "- **p.value**: the p-value of the test\n",
    "- **estimate**: the correlation coefficient"
   ]
  },
  {
   "cell_type": "code",
   "execution_count": 9,
   "metadata": {},
   "outputs": [
    {
     "data": {
      "text/html": [
       "1.29395870135052e-10"
      ],
      "text/latex": [
       "1.29395870135052e-10"
      ],
      "text/markdown": [
       "1.29395870135052e-10"
      ],
      "text/plain": [
       "[1] 1.293959e-10"
      ]
     },
     "metadata": {},
     "output_type": "display_data"
    },
    {
     "data": {
      "text/html": [
       "<strong>cor:</strong> -0.867659376517228"
      ],
      "text/latex": [
       "\\textbf{cor:} -0.867659376517228"
      ],
      "text/markdown": [
       "**cor:** -0.867659376517228"
      ],
      "text/plain": [
       "       cor \n",
       "-0.8676594 "
      ]
     },
     "metadata": {},
     "output_type": "display_data"
    }
   ],
   "source": [
    "# Extract the p.value\n",
    "res$p.value\n",
    "\n",
    "# Extract the correlation coefficient\n",
    "res$estimate"
   ]
  },
  {
   "cell_type": "markdown",
   "metadata": {},
   "source": [
    "### f. Kendall rank correlation test\n",
    "The **Kendall rank correlation coefficient** or **Kendall’s tau** statistic is used to estimate a rank-based measure of association. This test may be used if the data do not necessarily come from a bivariate normal distribution."
   ]
  },
  {
   "cell_type": "code",
   "execution_count": 10,
   "metadata": {},
   "outputs": [
    {
     "name": "stderr",
     "output_type": "stream",
     "text": [
      "Warning message in cor.test.default(my_data$wt, my_data$mpg, method = \"kendall\"):\n",
      "\"Cannot compute exact p-value with ties\"\n"
     ]
    },
    {
     "data": {
      "text/plain": [
       "\n",
       "\tKendall's rank correlation tau\n",
       "\n",
       "data:  my_data$wt and my_data$mpg\n",
       "z = -5.7981, p-value = 6.706e-09\n",
       "alternative hypothesis: true tau is not equal to 0\n",
       "sample estimates:\n",
       "       tau \n",
       "-0.7278321 \n"
      ]
     },
     "metadata": {},
     "output_type": "display_data"
    }
   ],
   "source": [
    "res2 <- cor.test(my_data$wt, my_data$mpg,  method=\"kendall\")\n",
    "res2"
   ]
  },
  {
   "cell_type": "markdown",
   "metadata": {},
   "source": [
    "**tau** is the **Kendall correlation coefficient**.\n",
    "\n",
    "The **correlation coefficient** between x and y are -0.7278 and the p-value is $6.70610^{-9}$."
   ]
  },
  {
   "cell_type": "markdown",
   "metadata": {},
   "source": [
    "### g. Spearman rank correlation coefficient \n",
    "Spearman’s **rho** statistic is also used to estimate a rank-based measure of association. This test may be used if the data do not come from a bivariate normal distribution."
   ]
  },
  {
   "cell_type": "code",
   "execution_count": 11,
   "metadata": {},
   "outputs": [
    {
     "name": "stderr",
     "output_type": "stream",
     "text": [
      "Warning message in cor.test.default(my_data$wt, my_data$mpg, method = \"spearman\"):\n",
      "\"Cannot compute exact p-value with ties\"\n"
     ]
    },
    {
     "data": {
      "text/plain": [
       "\n",
       "\tSpearman's rank correlation rho\n",
       "\n",
       "data:  my_data$wt and my_data$mpg\n",
       "S = 10292, p-value = 1.488e-11\n",
       "alternative hypothesis: true rho is not equal to 0\n",
       "sample estimates:\n",
       "      rho \n",
       "-0.886422 \n"
      ]
     },
     "metadata": {},
     "output_type": "display_data"
    }
   ],
   "source": [
    "res2 <-cor.test(my_data$wt, my_data$mpg,  method = \"spearman\")\n",
    "res2"
   ]
  },
  {
   "attachments": {
    "image.png": {
     "image/png": "[encoded data removed]"
    }
   },
   "cell_type": "markdown",
   "metadata": {},
   "source": [
    "**rho** is the **Spearman’s correlation coefficient**.\n",
    "\n",
    "The **correlation coefficient** between x and y are -0.8864 and the p-value is $1.48810^{-11}$.\n",
    "\n",
    "## 6. Interpret correlation coefficient\n",
    "Correlation coefficient is comprised between -1 and 1:\n",
    "- **1** indicates a strong **negative correlation** : this means that every time **x increases, y decreases** (top panel figure)\n",
    "- **0** means that there is **no association** between the two variables (x and y) (middle panel figure)\n",
    "- **1** indicates a strong **positive correlation** : this means that **y increases** with **x** (bottom panel figure)\n",
    "![image.png](attachment:image.png) ![image.png](attachment:image.png) ![image.png](attachment:image.png)"
   ]
  },
  {
   "cell_type": "markdown",
   "metadata": {},
   "source": [
    "Source: http://www.sthda.com/english/wiki/correlation-test-between-two-variables-in-r#what-is-correlation-test"
   ]
  }
 ],
 "metadata": {
  "kernelspec": {
   "display_name": "R",
   "language": "R",
   "name": "ir"
  },
  "language_info": {
   "codemirror_mode": "r",
   "file_extension": ".r",
   "mimetype": "text/x-r-source",
   "name": "R",
   "pygments_lexer": "r",
   "version": "3.6.3"
  }
 },
 "nbformat": 4,
 "nbformat_minor": 1
}
